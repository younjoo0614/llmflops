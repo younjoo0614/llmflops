{
 "cells": [
  {
   "cell_type": "code",
   "execution_count": null,
   "metadata": {},
   "outputs": [
    {
     "ename": "ModuleNotFoundError",
     "evalue": "No module named 'util'",
     "output_type": "error",
     "traceback": [
      "\u001b[0;31m---------------------------------------------------------------------------\u001b[0m",
      "\u001b[0;31mModuleNotFoundError\u001b[0m                       Traceback (most recent call last)",
      "\u001b[0;32m/tmp/ipykernel_2377071/984401965.py\u001b[0m in \u001b[0;36m<module>\u001b[0;34m\u001b[0m\n\u001b[1;32m      2\u001b[0m \u001b[0;32mimport\u001b[0m \u001b[0mpandas\u001b[0m \u001b[0;32mas\u001b[0m \u001b[0mpd\u001b[0m\u001b[0;34m\u001b[0m\u001b[0;34m\u001b[0m\u001b[0m\n\u001b[1;32m      3\u001b[0m \u001b[0;32mimport\u001b[0m \u001b[0mmatplotlib\u001b[0m\u001b[0;34m.\u001b[0m\u001b[0mpyplot\u001b[0m \u001b[0;32mas\u001b[0m \u001b[0mplt\u001b[0m\u001b[0;34m\u001b[0m\u001b[0;34m\u001b[0m\u001b[0m\n\u001b[0;32m----> 4\u001b[0;31m \u001b[0;32mfrom\u001b[0m \u001b[0mutil\u001b[0m \u001b[0;32mimport\u001b[0m \u001b[0mget_script\u001b[0m\u001b[0;34m\u001b[0m\u001b[0;34m\u001b[0m\u001b[0m\n\u001b[0m\u001b[1;32m      5\u001b[0m \u001b[0;34m\u001b[0m\u001b[0m\n\u001b[1;32m      6\u001b[0m \u001b[0minput_len\u001b[0m \u001b[0;34m=\u001b[0m \u001b[0;36m1024\u001b[0m\u001b[0;34m\u001b[0m\u001b[0;34m\u001b[0m\u001b[0m\n",
      "\u001b[0;31mModuleNotFoundError\u001b[0m: No module named 'util'"
     ]
    }
   ],
   "source": [
    "from graph import create_multiple_time_graph\n",
    "import pandas as pd\n",
    "import matplotlib.pyplot as plt\n",
    "                \n",
    "input_len = 1024\n",
    "output_len = 512\n",
    "batch_size = 128\n",
    "tp_degree = 4\n",
    "dp_degree = 8\n",
    "\n",
    "phase = \"prefill\" # or \"decode\"\n",
    "impl = \"absorb\" # or \"base\"\n",
    "moe_flag = True\n",
    "\n",
    "configs = [ {\"phase\": \"prefill\", \"impl\": \"base\", \"moe_flag\": True, \"input_len\": 1024, \"output_len\":512,\n",
    "             \"batch_size\": 128, \"tp_degree\": 4, \"dp_degree\": 8},\n",
    "           {\"phase\": \"prefill\", \"impl\": \"base\", \"moe_flag\": True, \"input_len\": 16384, \"output_len\":512,\n",
    "             \"batch_size\": 128, \"tp_degree\": 4, \"dp_degree\": 8},\n",
    "           {\"phase\": \"decode\", \"impl\": \"base\", \"moe_flag\": True, \"input_len\": 1024, \"output_len\":512,\n",
    "             \"batch_size\": 4096, \"tp_degree\": 4, \"dp_degree\": 8},\n",
    "           {\"phase\": \"decode\", \"impl\": \"base\", \"moe_flag\": True, \"input_len\": 16384, \"output_len\":512,\n",
    "             \"batch_size\": 4096, \"tp_degree\": 4, \"dp_degree\": 8}\n",
    "           ]\n",
    "\n",
    "n_plots = len(configs)\n",
    "fig, axes = plt.subplots(2, n_plots//2, figsize=(40, 32), sharey = False)\n",
    "\n",
    "for idx, config in enumerate(configs):\n",
    "    input_len = config[\"input_len\"]\n",
    "    output_len = config[\"output_len\"]\n",
    "    batch_size = config[\"batch_size\"]\n",
    "    tp_degree = config[\"tp_degree\"]\n",
    "    dp_degree = config[\"dp_degree\"]\n",
    "    %run main.py --input-len $input_len --output-len $output_len --batch-size $batch_size --data-size 2 --model-num 0 --tensor-degree $tp_degree --data-degree $dp_degree --flash-attention\n",
    "\n",
    "for idx, config in enumerate(configs):\n",
    "    csv_name = \"./result/deepseek_{}_{}_{}_Lin{}_Lout{}_Batch{}_TP{}_DP{}.csv\".format(config[\"phase\"], config[\"impl\"], \"moe\" if config[\"moe_flag\"] else \"dense\", config[\"input_len\"], config[\"output_len\"], config[\"batch_size\"], config[\"tp_degree\"], config[\"dp_degree\"])\n",
    "    \n",
    "    data_csv = pd.read_csv(csv_name)\n",
    "    create_multiple_time_graph(data_csv, csv_name, axes[idx//2, idx%2],\n",
    "                      config[\"input_len\"],\n",
    "                      config[\"output_len\"],\n",
    "                      config[\"batch_size\"],\n",
    "                      config[\"tp_degree\"],\n",
    "                      config[\"dp_degree\"])\n",
    "    \n",
    "plt.show()"
   ]
  },
  {
   "cell_type": "code",
   "execution_count": null,
   "metadata": {},
   "outputs": [],
   "source": []
  }
 ],
 "metadata": {
  "kernelspec": {
   "display_name": "base",
   "language": "python",
   "name": "python3"
  },
  "language_info": {
   "codemirror_mode": {
    "name": "ipython",
    "version": 3
   },
   "file_extension": ".py",
   "mimetype": "text/x-python",
   "name": "python",
   "nbconvert_exporter": "python",
   "pygments_lexer": "ipython3",
   "version": "3.9.13"
  }
 },
 "nbformat": 4,
 "nbformat_minor": 2
}
